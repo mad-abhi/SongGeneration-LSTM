{
  "nbformat": 4,
  "nbformat_minor": 0,
  "metadata": {
    "colab": {
      "provenance": []
    },
    "kernelspec": {
      "name": "python3",
      "display_name": "Python 3"
    },
    "language_info": {
      "name": "python"
    }
  },
  "cells": [
    {
      "cell_type": "code",
      "execution_count": null,
      "metadata": {
        "id": "b657MzBjzA77"
      },
      "outputs": [],
      "source": [
        "import numpy as np\n",
        "import matplotlib.pyplot as plt\n",
        "from tensorflow.keras.models import Sequential\n",
        "from tensorflow.keras.utils import to_categorical\n",
        "from tensorflow.keras.preprocessing.text import Tokenizer\n",
        "from tensorflow.keras.preprocessing.sequence import pad_sequences\n",
        "from tensorflow.keras.layers import Embedding, LSTM, Dense, Bidirectional"
      ]
    },
    {
      "cell_type": "code",
      "source": [
        "df = pd.read_csv(\"/content/drake_data.csv\")\n",
        "df.head()"
      ],
      "metadata": {
        "colab": {
          "base_uri": "https://localhost:8080/",
          "height": 293
        },
        "id": "4_qsx85-5Gbh",
        "outputId": "c2eed248-0dec-4fd9-ac26-fb54493e20ca"
      },
      "execution_count": null,
      "outputs": [
        {
          "output_type": "execute_result",
          "data": {
            "text/plain": [
              "                 album                           lyrics_title  \\\n",
              "0  Certified Lover Boy            Certified Lover Boy* Lyrics   \n",
              "1  Certified Lover Boy  Like I’m Supposed To/Do Things Lyrics   \n",
              "2  Certified Lover Boy                      Not Around Lyrics   \n",
              "3  Certified Lover Boy    In the Cut (Ft. Roddy Ricch) Lyrics   \n",
              "4  Certified Lover Boy  Zodiac Sign (Ft. Jessie Reyez) Lyrics   \n",
              "\n",
              "                                          lyrics_url  \\\n",
              "0  https://genius.com/Drake-certified-lover-boy-l...   \n",
              "1  https://genius.com/Drake-like-im-supposed-to-d...   \n",
              "2         https://genius.com/Drake-not-around-lyrics   \n",
              "3         https://genius.com/Drake-in-the-cut-lyrics   \n",
              "4        https://genius.com/Drake-zodiac-sign-lyrics   \n",
              "\n",
              "                                              lyrics track_views  \n",
              "0  [Verse]\\nPut my feelings on ice\\nAlways been a...        8.7K  \n",
              "1  [Verse]\\nHands are tied\\nSomeone's in my ear f...       38.8K  \n",
              "2  [Intro]\\nYeah, we back\\nWassup ladies?\\nSwisha...      129.8K  \n",
              "3  [Intro: Drake]\\nAyy, yeah\\nPipe this shit up a...       72.1K  \n",
              "4  [Verse 1: Drake]\\nYou ask how many girls I bee...       54.8K  "
            ],
            "text/html": [
              "\n",
              "  <div id=\"df-c7ab9db6-6fb3-4d92-98cf-ea418f520f33\" class=\"colab-df-container\">\n",
              "    <div>\n",
              "<style scoped>\n",
              "    .dataframe tbody tr th:only-of-type {\n",
              "        vertical-align: middle;\n",
              "    }\n",
              "\n",
              "    .dataframe tbody tr th {\n",
              "        vertical-align: top;\n",
              "    }\n",
              "\n",
              "    .dataframe thead th {\n",
              "        text-align: right;\n",
              "    }\n",
              "</style>\n",
              "<table border=\"1\" class=\"dataframe\">\n",
              "  <thead>\n",
              "    <tr style=\"text-align: right;\">\n",
              "      <th></th>\n",
              "      <th>album</th>\n",
              "      <th>lyrics_title</th>\n",
              "      <th>lyrics_url</th>\n",
              "      <th>lyrics</th>\n",
              "      <th>track_views</th>\n",
              "    </tr>\n",
              "  </thead>\n",
              "  <tbody>\n",
              "    <tr>\n",
              "      <th>0</th>\n",
              "      <td>Certified Lover Boy</td>\n",
              "      <td>Certified Lover Boy* Lyrics</td>\n",
              "      <td>https://genius.com/Drake-certified-lover-boy-l...</td>\n",
              "      <td>[Verse]\\nPut my feelings on ice\\nAlways been a...</td>\n",
              "      <td>8.7K</td>\n",
              "    </tr>\n",
              "    <tr>\n",
              "      <th>1</th>\n",
              "      <td>Certified Lover Boy</td>\n",
              "      <td>Like I’m Supposed To/Do Things Lyrics</td>\n",
              "      <td>https://genius.com/Drake-like-im-supposed-to-d...</td>\n",
              "      <td>[Verse]\\nHands are tied\\nSomeone's in my ear f...</td>\n",
              "      <td>38.8K</td>\n",
              "    </tr>\n",
              "    <tr>\n",
              "      <th>2</th>\n",
              "      <td>Certified Lover Boy</td>\n",
              "      <td>Not Around Lyrics</td>\n",
              "      <td>https://genius.com/Drake-not-around-lyrics</td>\n",
              "      <td>[Intro]\\nYeah, we back\\nWassup ladies?\\nSwisha...</td>\n",
              "      <td>129.8K</td>\n",
              "    </tr>\n",
              "    <tr>\n",
              "      <th>3</th>\n",
              "      <td>Certified Lover Boy</td>\n",
              "      <td>In the Cut (Ft. Roddy Ricch) Lyrics</td>\n",
              "      <td>https://genius.com/Drake-in-the-cut-lyrics</td>\n",
              "      <td>[Intro: Drake]\\nAyy, yeah\\nPipe this shit up a...</td>\n",
              "      <td>72.1K</td>\n",
              "    </tr>\n",
              "    <tr>\n",
              "      <th>4</th>\n",
              "      <td>Certified Lover Boy</td>\n",
              "      <td>Zodiac Sign (Ft. Jessie Reyez) Lyrics</td>\n",
              "      <td>https://genius.com/Drake-zodiac-sign-lyrics</td>\n",
              "      <td>[Verse 1: Drake]\\nYou ask how many girls I bee...</td>\n",
              "      <td>54.8K</td>\n",
              "    </tr>\n",
              "  </tbody>\n",
              "</table>\n",
              "</div>\n",
              "    <div class=\"colab-df-buttons\">\n",
              "\n",
              "  <div class=\"colab-df-container\">\n",
              "    <button class=\"colab-df-convert\" onclick=\"convertToInteractive('df-c7ab9db6-6fb3-4d92-98cf-ea418f520f33')\"\n",
              "            title=\"Convert this dataframe to an interactive table.\"\n",
              "            style=\"display:none;\">\n",
              "\n",
              "  <svg xmlns=\"http://www.w3.org/2000/svg\" height=\"24px\" viewBox=\"0 -960 960 960\">\n",
              "    <path d=\"M120-120v-720h720v720H120Zm60-500h600v-160H180v160Zm220 220h160v-160H400v160Zm0 220h160v-160H400v160ZM180-400h160v-160H180v160Zm440 0h160v-160H620v160ZM180-180h160v-160H180v160Zm440 0h160v-160H620v160Z\"/>\n",
              "  </svg>\n",
              "    </button>\n",
              "\n",
              "  <style>\n",
              "    .colab-df-container {\n",
              "      display:flex;\n",
              "      gap: 12px;\n",
              "    }\n",
              "\n",
              "    .colab-df-convert {\n",
              "      background-color: #E8F0FE;\n",
              "      border: none;\n",
              "      border-radius: 50%;\n",
              "      cursor: pointer;\n",
              "      display: none;\n",
              "      fill: #1967D2;\n",
              "      height: 32px;\n",
              "      padding: 0 0 0 0;\n",
              "      width: 32px;\n",
              "    }\n",
              "\n",
              "    .colab-df-convert:hover {\n",
              "      background-color: #E2EBFA;\n",
              "      box-shadow: 0px 1px 2px rgba(60, 64, 67, 0.3), 0px 1px 3px 1px rgba(60, 64, 67, 0.15);\n",
              "      fill: #174EA6;\n",
              "    }\n",
              "\n",
              "    .colab-df-buttons div {\n",
              "      margin-bottom: 4px;\n",
              "    }\n",
              "\n",
              "    [theme=dark] .colab-df-convert {\n",
              "      background-color: #3B4455;\n",
              "      fill: #D2E3FC;\n",
              "    }\n",
              "\n",
              "    [theme=dark] .colab-df-convert:hover {\n",
              "      background-color: #434B5C;\n",
              "      box-shadow: 0px 1px 3px 1px rgba(0, 0, 0, 0.15);\n",
              "      filter: drop-shadow(0px 1px 2px rgba(0, 0, 0, 0.3));\n",
              "      fill: #FFFFFF;\n",
              "    }\n",
              "  </style>\n",
              "\n",
              "    <script>\n",
              "      const buttonEl =\n",
              "        document.querySelector('#df-c7ab9db6-6fb3-4d92-98cf-ea418f520f33 button.colab-df-convert');\n",
              "      buttonEl.style.display =\n",
              "        google.colab.kernel.accessAllowed ? 'block' : 'none';\n",
              "\n",
              "      async function convertToInteractive(key) {\n",
              "        const element = document.querySelector('#df-c7ab9db6-6fb3-4d92-98cf-ea418f520f33');\n",
              "        const dataTable =\n",
              "          await google.colab.kernel.invokeFunction('convertToInteractive',\n",
              "                                                    [key], {});\n",
              "        if (!dataTable) return;\n",
              "\n",
              "        const docLinkHtml = 'Like what you see? Visit the ' +\n",
              "          '<a target=\"_blank\" href=https://colab.research.google.com/notebooks/data_table.ipynb>data table notebook</a>'\n",
              "          + ' to learn more about interactive tables.';\n",
              "        element.innerHTML = '';\n",
              "        dataTable['output_type'] = 'display_data';\n",
              "        await google.colab.output.renderOutput(dataTable, element);\n",
              "        const docLink = document.createElement('div');\n",
              "        docLink.innerHTML = docLinkHtml;\n",
              "        element.appendChild(docLink);\n",
              "      }\n",
              "    </script>\n",
              "  </div>\n",
              "\n",
              "\n",
              "<div id=\"df-b740dd8f-5849-4461-8c52-9a5bd62a6fa4\">\n",
              "  <button class=\"colab-df-quickchart\" onclick=\"quickchart('df-b740dd8f-5849-4461-8c52-9a5bd62a6fa4')\"\n",
              "            title=\"Suggest charts.\"\n",
              "            style=\"display:none;\">\n",
              "\n",
              "<svg xmlns=\"http://www.w3.org/2000/svg\" height=\"24px\"viewBox=\"0 0 24 24\"\n",
              "     width=\"24px\">\n",
              "    <g>\n",
              "        <path d=\"M19 3H5c-1.1 0-2 .9-2 2v14c0 1.1.9 2 2 2h14c1.1 0 2-.9 2-2V5c0-1.1-.9-2-2-2zM9 17H7v-7h2v7zm4 0h-2V7h2v10zm4 0h-2v-4h2v4z\"/>\n",
              "    </g>\n",
              "</svg>\n",
              "  </button>\n",
              "\n",
              "<style>\n",
              "  .colab-df-quickchart {\n",
              "      --bg-color: #E8F0FE;\n",
              "      --fill-color: #1967D2;\n",
              "      --hover-bg-color: #E2EBFA;\n",
              "      --hover-fill-color: #174EA6;\n",
              "      --disabled-fill-color: #AAA;\n",
              "      --disabled-bg-color: #DDD;\n",
              "  }\n",
              "\n",
              "  [theme=dark] .colab-df-quickchart {\n",
              "      --bg-color: #3B4455;\n",
              "      --fill-color: #D2E3FC;\n",
              "      --hover-bg-color: #434B5C;\n",
              "      --hover-fill-color: #FFFFFF;\n",
              "      --disabled-bg-color: #3B4455;\n",
              "      --disabled-fill-color: #666;\n",
              "  }\n",
              "\n",
              "  .colab-df-quickchart {\n",
              "    background-color: var(--bg-color);\n",
              "    border: none;\n",
              "    border-radius: 50%;\n",
              "    cursor: pointer;\n",
              "    display: none;\n",
              "    fill: var(--fill-color);\n",
              "    height: 32px;\n",
              "    padding: 0;\n",
              "    width: 32px;\n",
              "  }\n",
              "\n",
              "  .colab-df-quickchart:hover {\n",
              "    background-color: var(--hover-bg-color);\n",
              "    box-shadow: 0 1px 2px rgba(60, 64, 67, 0.3), 0 1px 3px 1px rgba(60, 64, 67, 0.15);\n",
              "    fill: var(--button-hover-fill-color);\n",
              "  }\n",
              "\n",
              "  .colab-df-quickchart-complete:disabled,\n",
              "  .colab-df-quickchart-complete:disabled:hover {\n",
              "    background-color: var(--disabled-bg-color);\n",
              "    fill: var(--disabled-fill-color);\n",
              "    box-shadow: none;\n",
              "  }\n",
              "\n",
              "  .colab-df-spinner {\n",
              "    border: 2px solid var(--fill-color);\n",
              "    border-color: transparent;\n",
              "    border-bottom-color: var(--fill-color);\n",
              "    animation:\n",
              "      spin 1s steps(1) infinite;\n",
              "  }\n",
              "\n",
              "  @keyframes spin {\n",
              "    0% {\n",
              "      border-color: transparent;\n",
              "      border-bottom-color: var(--fill-color);\n",
              "      border-left-color: var(--fill-color);\n",
              "    }\n",
              "    20% {\n",
              "      border-color: transparent;\n",
              "      border-left-color: var(--fill-color);\n",
              "      border-top-color: var(--fill-color);\n",
              "    }\n",
              "    30% {\n",
              "      border-color: transparent;\n",
              "      border-left-color: var(--fill-color);\n",
              "      border-top-color: var(--fill-color);\n",
              "      border-right-color: var(--fill-color);\n",
              "    }\n",
              "    40% {\n",
              "      border-color: transparent;\n",
              "      border-right-color: var(--fill-color);\n",
              "      border-top-color: var(--fill-color);\n",
              "    }\n",
              "    60% {\n",
              "      border-color: transparent;\n",
              "      border-right-color: var(--fill-color);\n",
              "    }\n",
              "    80% {\n",
              "      border-color: transparent;\n",
              "      border-right-color: var(--fill-color);\n",
              "      border-bottom-color: var(--fill-color);\n",
              "    }\n",
              "    90% {\n",
              "      border-color: transparent;\n",
              "      border-bottom-color: var(--fill-color);\n",
              "    }\n",
              "  }\n",
              "</style>\n",
              "\n",
              "  <script>\n",
              "    async function quickchart(key) {\n",
              "      const quickchartButtonEl =\n",
              "        document.querySelector('#' + key + ' button');\n",
              "      quickchartButtonEl.disabled = true;  // To prevent multiple clicks.\n",
              "      quickchartButtonEl.classList.add('colab-df-spinner');\n",
              "      try {\n",
              "        const charts = await google.colab.kernel.invokeFunction(\n",
              "            'suggestCharts', [key], {});\n",
              "      } catch (error) {\n",
              "        console.error('Error during call to suggestCharts:', error);\n",
              "      }\n",
              "      quickchartButtonEl.classList.remove('colab-df-spinner');\n",
              "      quickchartButtonEl.classList.add('colab-df-quickchart-complete');\n",
              "    }\n",
              "    (() => {\n",
              "      let quickchartButtonEl =\n",
              "        document.querySelector('#df-b740dd8f-5849-4461-8c52-9a5bd62a6fa4 button');\n",
              "      quickchartButtonEl.style.display =\n",
              "        google.colab.kernel.accessAllowed ? 'block' : 'none';\n",
              "    })();\n",
              "  </script>\n",
              "</div>\n",
              "    </div>\n",
              "  </div>\n"
            ]
          },
          "metadata": {},
          "execution_count": 75
        }
      ]
    },
    {
      "cell_type": "code",
      "source": [
        "lyrics_list = df['lyrics'].tolist()\n",
        "lyrics_list[:3]"
      ],
      "metadata": {
        "colab": {
          "base_uri": "https://localhost:8080/"
        },
        "id": "5EFWWlXlmIhN",
        "outputId": "7281f93e-a73e-4341-976d-78caf52fd93b"
      },
      "execution_count": null,
      "outputs": [
        {
          "output_type": "execute_result",
          "data": {
            "text/plain": [
              "[\"[Verse]\\nPut my feelings on ice\\nAlways been a gem\\nCertified lover boy, somehow still heartless\\nHeart is only gettin' colder\",\n",
              " \"[Verse]\\nHands are tied\\nSomeone's in my ear from the other side\\nTellin' me that I should pay you no mind\\nWanted you to not be with me all night\\nWanted you to not stay with me all night\\nI know, you know, who that person is to me\\nDoesn't really change things\\n\\n[Chorus]\\nI know you're scared of dating, falling for me\\nShorty, surely you know me\\nRight here for you always\\nYou know, I don't ever change\\nRight here for you always\\nYou know I don't ever change\\nRight here for you\\n\\n[Bridge]\\nIn mind you make me want to do things, love you\\nLike I'm supposed to\\nYou make me want to love you\\nLike I'm supposed to\\nYou make me want to love you\\nLike I'm supposed to, remind you\\nAyy\\n\\n[Chorus]\\nI know you're scared of dating, falling for me\\nShorty, by now you know me\\nRight here for you always\\nYou know, I don't ever change\\nRight here for you always\\nYou know I don't ever change\\nRight here for you\",\n",
              " \"[Intro]\\nYeah, we back\\nWassup ladies?\\nSwishahouse, baby\\nWassup to all the ladies on the Northside, Southside, Eastside, Westside?\\nWassup\\u2005in\\u2005Bay City?\\nWassup to\\u2005all the ladies in Louisiana?\\nWassup to\\u2005all the ladies in Dallas, Austin, San Antonio?\\nMarshall, Prairie View,\\u205fit's\\u205fgoing\\u205fdown\\nWharton County, Texas\\u205fCity, H-Town, baby\\nTSU\\u205fladies\\n\\n[Chorus]\\nShe moved out of state, and shit done went left, she's seekin' forgiveness\\nShe used to dance, but she want a loan and start up a business\\nHer daddy is not around, her momma is not around\\nI watch her climb to the top of the pole and then get to slidin' down\\nI make it rain in this bitch, I make it snow in this bitch\\nShe tryna get out of the mix\\nShawty is goin' legit, shawty is goin' legit\\nMe, I'm supportin' this shit, this is a story\\nCame from my life and I'm just recordin' this shit\\n\\n[Verse 1]\\nI'ma just give it to you direct, instead of me throwin' this shit\\nYou know you important and shit\\nYou know I'm supportin' this shit\\nWe used to do pornos when you would come over but now you got morals and shit\\nI got like four on the wrist and an adorable kid\\nI got the drac' in the studio and I don't just mean that I'm in this bitch\\nPlease make the most of this shit\\nDon't just come close to some shit\\nI give you this bread, you run me some head\\nAnd then you go glow up a bit\\n\\n[Chorus]\\nShe moved out of state, and shit done went left, she's seekin' forgiveness\\nShe used to dance, but she want a loan and start up a business\\nHer daddy is not around, her momma is not around\\nI watch her climb to the top of the pole and then get to sli-\\nI make it rain in this bitch, I make it snow in this bitch\\nShe tryna get out of the mix\\nShawty is goin' legit, shawty is goin' legit\\nMe, I'm supportin' this shit, this is a story\\nCame from my life and I'm just recordin' this shit\\n\\n[Verse 2]\\nHer daddy is not around, momma is definitely not around\\nShe got a business plan, but she just ain't had time to write it down\\nStay with her sister now, she got a man, but he out of town\\nSoon as he out of town, they hop in his whip and they ride around\\nI watch her climb to the top of the pole and then get to slidin', slidin'\\nThought about trappin' a player before, but that just ain't right, right\\nLook in the mirror if you wanna look at some things on the bright side\\nYou popped a 325, you feelin' too good to worry tonight\\n\\n[Chorus]\\nShe moved out of state, and shit done went left, she's seekin' forgiveness\\nShe used to dance, but she want a loan and start up a business\\nHer daddy is not around, her momma is not around\\nI watch her climb to the top of the pole and then get to sli-\\nI make it rain in this bitch, I make it snow in this bitch\\nShe tryna get out of the mix\\nShawty is goin' legit, shawty is goin' legit\\nMe, I'm supportin' this shit, this is a story\\nCame for my life and I'm just recordin' this shit\"]"
            ]
          },
          "metadata": {},
          "execution_count": 77
        }
      ]
    },
    {
      "cell_type": "code",
      "source": [
        "import re\n",
        "\n",
        "cleaned_lyrics_list = []\n",
        "for song_lyrics in lyrics_list:\n",
        "    # Check if song_lyrics is a string\n",
        "    if isinstance(song_lyrics, str):\n",
        "        # remove square brackets and their contents\n",
        "        no_brackets = re.sub(r'\\[.*?\\]', '', song_lyrics)\n",
        "        # replace slashes with spaces\n",
        "        no_slashes = re.sub(r'/', ' ', no_brackets)\n",
        "        # split the cleaned lyrics into separate lines\n",
        "        lines = no_slashes.split('\\n')\n",
        "        # remove any remaining empty lines\n",
        "        lines = [line for line in lines if line.strip() != '']\n",
        "        cleaned_lyrics_list.extend(lines)\n",
        "\n",
        "cleaned_lyrics_list[:3]\n"
      ],
      "metadata": {
        "colab": {
          "base_uri": "https://localhost:8080/"
        },
        "id": "JKM9Z8dImktF",
        "outputId": "cf43a5c5-c2f7-402e-a249-6e4c48a4bdcf"
      },
      "execution_count": null,
      "outputs": [
        {
          "output_type": "execute_result",
          "data": {
            "text/plain": [
              "['Put my feelings on ice',\n",
              " 'Always been a gem',\n",
              " 'Certified lover boy, somehow still heartless']"
            ]
          },
          "metadata": {},
          "execution_count": 79
        }
      ]
    },
    {
      "cell_type": "code",
      "source": [
        "len(cleaned_lyrics_list)"
      ],
      "metadata": {
        "colab": {
          "base_uri": "https://localhost:8080/"
        },
        "id": "ZGZrbk21myOd",
        "outputId": "77b524e1-8f78-41ea-8519-b1040699b3e3"
      },
      "execution_count": null,
      "outputs": [
        {
          "output_type": "execute_result",
          "data": {
            "text/plain": [
              "17580"
            ]
          },
          "metadata": {},
          "execution_count": 80
        }
      ]
    },
    {
      "cell_type": "code",
      "source": [
        "corp = cleaned_lyrics_list[:len(cleaned_lyrics_list)//4]"
      ],
      "metadata": {
        "id": "BvYBhYbWm2ld"
      },
      "execution_count": null,
      "outputs": []
    },
    {
      "cell_type": "code",
      "source": [
        "# Convert to lowercase and save as a list\n",
        "corpus = [line.lower() for line in corp]\n",
        "\n",
        "print(f\"There are {len(corpus)} lines of text\\n\")\n",
        "print(f\"The first 5 lines look like this:\\n\")\n",
        "print(corpus[:20])"
      ],
      "metadata": {
        "colab": {
          "base_uri": "https://localhost:8080/"
        },
        "id": "DuyXJLkBm5l1",
        "outputId": "46b75166-95d0-476a-e67d-be504e8ebe79"
      },
      "execution_count": null,
      "outputs": [
        {
          "output_type": "stream",
          "name": "stdout",
          "text": [
            "There are 4395 lines of text\n",
            "\n",
            "The first 5 lines look like this:\n",
            "\n",
            "['put my feelings on ice', 'always been a gem', 'certified lover boy, somehow still heartless', \"heart is only gettin' colder\", 'hands are tied', \"someone's in my ear from the other side\", \"tellin' me that i should pay you no mind\", 'wanted you to not be with me all night', 'wanted you to not stay with me all night', 'i know, you know, who that person is to me', \"doesn't really change things\", \"i know you're scared of dating, falling for me\", 'shorty, surely you know me', 'right here for you always', \"you know, i don't ever change\", 'right here for you always', \"you know i don't ever change\", 'right here for you', 'in mind you make me want to do things, love you', \"like i'm supposed to\"]\n"
          ]
        }
      ]
    },
    {
      "cell_type": "code",
      "source": [
        "tokenizer = Tokenizer()\n",
        "tokenizer.fit_on_texts(corpus)\n",
        "total_words = len(tokenizer.word_index) + 1"
      ],
      "metadata": {
        "id": "R9FU9u88m8w0"
      },
      "execution_count": null,
      "outputs": []
    },
    {
      "cell_type": "code",
      "source": [
        "total_words"
      ],
      "metadata": {
        "colab": {
          "base_uri": "https://localhost:8080/"
        },
        "id": "ttYxAH4_m-UE",
        "outputId": "50d17f13-0998-4201-8097-078b5552642c"
      },
      "execution_count": null,
      "outputs": [
        {
          "output_type": "execute_result",
          "data": {
            "text/plain": [
              "4064"
            ]
          },
          "metadata": {},
          "execution_count": 84
        }
      ]
    },
    {
      "cell_type": "code",
      "source": [
        "corpus[0]"
      ],
      "metadata": {
        "colab": {
          "base_uri": "https://localhost:8080/",
          "height": 36
        },
        "id": "XFSXCUphm_92",
        "outputId": "9a3b3a8e-583f-4066-a416-ba94b384fc82"
      },
      "execution_count": null,
      "outputs": [
        {
          "output_type": "execute_result",
          "data": {
            "text/plain": [
              "'put my feelings on ice'"
            ],
            "application/vnd.google.colaboratory.intrinsic+json": {
              "type": "string"
            }
          },
          "metadata": {},
          "execution_count": 85
        }
      ]
    },
    {
      "cell_type": "code",
      "source": [
        "tokenizer.texts_to_sequences([corpus[0]])[0]"
      ],
      "metadata": {
        "colab": {
          "base_uri": "https://localhost:8080/"
        },
        "id": "piD7kuadnCel",
        "outputId": "59b5b4a1-f0bb-4121-b4d1-d0f7debfcdd1"
      },
      "execution_count": null,
      "outputs": [
        {
          "output_type": "execute_result",
          "data": {
            "text/plain": [
              "[124, 10, 621, 12, 365]"
            ]
          },
          "metadata": {},
          "execution_count": 86
        }
      ]
    },
    {
      "cell_type": "code",
      "source": [
        "def n_gram_seqs(corpus, tokenizer):\n",
        "    \"\"\"\n",
        "    Generates a list of n-gram sequences\n",
        "\n",
        "    Args:\n",
        "        corpus (list of string): lines of texts to generate n-grams for\n",
        "        tokenizer (object): an instance of the Tokenizer class containing the word-index dictionary\n",
        "\n",
        "    Returns:\n",
        "        input_sequences (list of int): the n-gram sequences for each line in the corpus\n",
        "    \"\"\"\n",
        "    input_sequences = []\n",
        "\n",
        "    for line in corpus:\n",
        "      token_list = tokenizer.texts_to_sequences([line])[0]\n",
        "      for i in range(1, len(token_list)):\n",
        "          n_gram_sequence = token_list[:i+1]\n",
        "          input_sequences.append(n_gram_sequence)\n",
        "\n",
        "    return input_sequences"
      ],
      "metadata": {
        "id": "1bJD7CtTnFEc"
      },
      "execution_count": null,
      "outputs": []
    },
    {
      "cell_type": "code",
      "source": [
        "# Test the function with one example\n",
        "first_example_sequence = n_gram_seqs([corpus[0]], tokenizer)\n",
        "\n",
        "print(\"n_gram sequences for first example look like this:\\n\")\n",
        "first_example_sequence"
      ],
      "metadata": {
        "colab": {
          "base_uri": "https://localhost:8080/"
        },
        "id": "kvkfoTcjnGB0",
        "outputId": "2c8fbe8b-3b1d-4bb9-ca9d-3ac5a6a7a9d4"
      },
      "execution_count": null,
      "outputs": [
        {
          "output_type": "stream",
          "name": "stdout",
          "text": [
            "n_gram sequences for first example look like this:\n",
            "\n"
          ]
        },
        {
          "output_type": "execute_result",
          "data": {
            "text/plain": [
              "[[124, 10], [124, 10, 621], [124, 10, 621, 12], [124, 10, 621, 12, 365]]"
            ]
          },
          "metadata": {},
          "execution_count": 88
        }
      ]
    },
    {
      "cell_type": "code",
      "source": [
        "# Test the function with a bigger corpus\n",
        "next_3_examples_sequence = n_gram_seqs(corpus[1:4], tokenizer)\n",
        "\n",
        "print(\"n_gram sequences for next 3 examples look like this:\\n\")\n",
        "next_3_examples_sequence"
      ],
      "metadata": {
        "colab": {
          "base_uri": "https://localhost:8080/"
        },
        "id": "ZNQjEm5BnJI1",
        "outputId": "3c0c7c15-3264-4f37-87f0-9549ce637266"
      },
      "execution_count": null,
      "outputs": [
        {
          "output_type": "stream",
          "name": "stdout",
          "text": [
            "n_gram sequences for next 3 examples look like this:\n",
            "\n"
          ]
        },
        {
          "output_type": "execute_result",
          "data": {
            "text/plain": [
              "[[105, 79],\n",
              " [105, 79, 7],\n",
              " [105, 79, 7, 1923],\n",
              " [1288, 622],\n",
              " [1288, 622, 120],\n",
              " [1288, 622, 120, 978],\n",
              " [1288, 622, 120, 978, 82],\n",
              " [1288, 622, 120, 978, 82, 1924],\n",
              " [210, 19],\n",
              " [210, 19, 115],\n",
              " [210, 19, 115, 211],\n",
              " [210, 19, 115, 211, 1925]]"
            ]
          },
          "metadata": {},
          "execution_count": 89
        }
      ]
    },
    {
      "cell_type": "code",
      "source": [
        "# Apply the n_gram_seqs transformation to the whole corpus\n",
        "input_sequences = n_gram_seqs(corpus, tokenizer)\n",
        "\n",
        "# Save max length\n",
        "max_sequence_len = max([len(x) for x in input_sequences])\n",
        "\n",
        "print(f\"n_grams of input_sequences have length: {len(input_sequences)}\")\n",
        "print(f\"maximum length of sequences is: {max_sequence_len}\")"
      ],
      "metadata": {
        "colab": {
          "base_uri": "https://localhost:8080/"
        },
        "id": "-FypDIJFnLn8",
        "outputId": "260e36d5-98d2-4bee-ed9e-5c67e6b64f9c"
      },
      "execution_count": null,
      "outputs": [
        {
          "output_type": "stream",
          "name": "stdout",
          "text": [
            "n_grams of input_sequences have length: 31828\n",
            "maximum length of sequences is: 131\n"
          ]
        }
      ]
    },
    {
      "cell_type": "code",
      "source": [
        "def pad_seqs(input_sequences, maxlen):\n",
        "    \"\"\"\n",
        "    Pads tokenized sequences to the same length\n",
        "\n",
        "    Args:\n",
        "        input_sequences (list of int): tokenized sequences to pad\n",
        "        maxlen (int): maximum length of the token sequences\n",
        "\n",
        "    Returns:\n",
        "        padded_sequences (array of int): tokenized sequences padded to the same length\n",
        "    \"\"\"\n",
        "    padded_sequences = pad_sequences(input_sequences, maxlen=maxlen, padding='pre')\n",
        "\n",
        "    return padded_sequences"
      ],
      "metadata": {
        "id": "iTnl2ivOnNqk"
      },
      "execution_count": null,
      "outputs": []
    },
    {
      "cell_type": "code",
      "source": [
        "# Test the function with the n_grams_seq of the first example\n",
        "first_padded_seq = pad_seqs(first_example_sequence, max([len(x) for x in first_example_sequence]))\n",
        "first_padded_seq"
      ],
      "metadata": {
        "colab": {
          "base_uri": "https://localhost:8080/"
        },
        "id": "SkT9C9zYnPol",
        "outputId": "e60d7f61-fa0e-4dc9-c44e-a69e56db331f"
      },
      "execution_count": null,
      "outputs": [
        {
          "output_type": "execute_result",
          "data": {
            "text/plain": [
              "array([[  0,   0,   0, 124,  10],\n",
              "       [  0,   0, 124,  10, 621],\n",
              "       [  0, 124,  10, 621,  12],\n",
              "       [124,  10, 621,  12, 365]], dtype=int32)"
            ]
          },
          "metadata": {},
          "execution_count": 92
        }
      ]
    },
    {
      "cell_type": "code",
      "source": [
        "# Test the function with the n_grams_seq of the next 3 examples\n",
        "next_3_padded_seq = pad_seqs(next_3_examples_sequence, max([len(s) for s in next_3_examples_sequence]))\n",
        "next_3_padded_seq"
      ],
      "metadata": {
        "colab": {
          "base_uri": "https://localhost:8080/"
        },
        "id": "aE0vvbPwnScE",
        "outputId": "d2f35ec2-70f0-410f-a8fc-372336a3b3fa"
      },
      "execution_count": null,
      "outputs": [
        {
          "output_type": "execute_result",
          "data": {
            "text/plain": [
              "array([[   0,    0,    0,    0,  105,   79],\n",
              "       [   0,    0,    0,  105,   79,    7],\n",
              "       [   0,    0,  105,   79,    7, 1923],\n",
              "       [   0,    0,    0,    0, 1288,  622],\n",
              "       [   0,    0,    0, 1288,  622,  120],\n",
              "       [   0,    0, 1288,  622,  120,  978],\n",
              "       [   0, 1288,  622,  120,  978,   82],\n",
              "       [1288,  622,  120,  978,   82, 1924],\n",
              "       [   0,    0,    0,    0,  210,   19],\n",
              "       [   0,    0,    0,  210,   19,  115],\n",
              "       [   0,    0,  210,   19,  115,  211],\n",
              "       [   0,  210,   19,  115,  211, 1925]], dtype=int32)"
            ]
          },
          "metadata": {},
          "execution_count": 93
        }
      ]
    },
    {
      "cell_type": "code",
      "source": [
        "# Pad the whole corpus\n",
        "input_sequences = pad_seqs(input_sequences, max_sequence_len)\n",
        "\n",
        "print(f\"padded corpus has shape: {input_sequences.shape}\")"
      ],
      "metadata": {
        "colab": {
          "base_uri": "https://localhost:8080/"
        },
        "id": "XpqA_WX1nUm1",
        "outputId": "99af7c37-2692-4001-8974-2c31e10e84bc"
      },
      "execution_count": null,
      "outputs": [
        {
          "output_type": "stream",
          "name": "stdout",
          "text": [
            "padded corpus has shape: (31828, 131)\n"
          ]
        }
      ]
    },
    {
      "cell_type": "code",
      "source": [
        "def features_and_labels(input_sequences, total_words):\n",
        "    \"\"\"\n",
        "    Generates features and labels from n-grams\n",
        "\n",
        "    Args:\n",
        "        input_sequences (list of int): sequences to split features and labels from\n",
        "        total_words (int): vocabulary size\n",
        "\n",
        "    Returns:\n",
        "        features, one_hot_labels (array of int, array of int): arrays of features and one-hot encoded labels\n",
        "    \"\"\"\n",
        "    input_sequences = np.array(input_sequences)\n",
        "    features, labels = input_sequences[:,:-1], input_sequences[:,-1]\n",
        "    one_hot_labels = to_categorical(labels, num_classes=total_words)\n",
        "\n",
        "    return features, one_hot_labels"
      ],
      "metadata": {
        "id": "mpHD7PkYnYZb"
      },
      "execution_count": null,
      "outputs": []
    },
    {
      "cell_type": "code",
      "source": [
        "# Test the function with the padded n_grams_seq of the first example\n",
        "first_features, first_labels = features_and_labels(first_padded_seq, total_words)\n",
        "\n",
        "print(f\"labels have shape: {first_labels.shape}\")\n",
        "print(\"\\nfeatures look like this:\\n\")\n",
        "first_features"
      ],
      "metadata": {
        "colab": {
          "base_uri": "https://localhost:8080/"
        },
        "id": "TwTHWrKSnba7",
        "outputId": "7805f4f3-5c78-440b-a57b-4fb6f2c08baf"
      },
      "execution_count": null,
      "outputs": [
        {
          "output_type": "stream",
          "name": "stdout",
          "text": [
            "labels have shape: (4, 4064)\n",
            "\n",
            "features look like this:\n",
            "\n"
          ]
        },
        {
          "output_type": "execute_result",
          "data": {
            "text/plain": [
              "array([[  0,   0,   0, 124],\n",
              "       [  0,   0, 124,  10],\n",
              "       [  0, 124,  10, 621],\n",
              "       [124,  10, 621,  12]], dtype=int32)"
            ]
          },
          "metadata": {},
          "execution_count": 96
        }
      ]
    },
    {
      "cell_type": "code",
      "source": [
        "# Split the whole corpus\n",
        "features, labels = features_and_labels(input_sequences, total_words)\n",
        "\n",
        "print(f\"features have shape: {features.shape}\")\n",
        "print(f\"labels have shape: {labels.shape}\")"
      ],
      "metadata": {
        "colab": {
          "base_uri": "https://localhost:8080/"
        },
        "id": "peLlFpfCneGL",
        "outputId": "63fe61eb-8d70-4d51-8b20-fc997cd6f3f3"
      },
      "execution_count": null,
      "outputs": [
        {
          "output_type": "stream",
          "name": "stdout",
          "text": [
            "features have shape: (31828, 130)\n",
            "labels have shape: (31828, 4064)\n"
          ]
        }
      ]
    },
    {
      "cell_type": "code",
      "source": [
        "def create_model(total_words, max_sequence_len):\n",
        "    \"\"\"\n",
        "    Creates a text generator model\n",
        "\n",
        "    Args:\n",
        "        total_words (int): size of the vocabulary for the Embedding layer input\n",
        "        max_sequence_len (int): length of the input sequences\n",
        "\n",
        "    Returns:\n",
        "        model (tf.keras Model): the text generator model\n",
        "    \"\"\"\n",
        "    model = Sequential()\n",
        "\n",
        "    model.add(Embedding(total_words, 100, input_length=max_sequence_len-1))\n",
        "    model.add(Bidirectional(LSTM(150, return_sequences=False)))\n",
        "    model.add(Dense(total_words, activation='softmax'))\n",
        "\n",
        "\n",
        "    # Compile the model\n",
        "    model.compile(loss='categorical_crossentropy',\n",
        "                  optimizer='adam',\n",
        "                  metrics=['accuracy'])\n",
        "\n",
        "\n",
        "    return model"
      ],
      "metadata": {
        "id": "3b-ilEWHnggb"
      },
      "execution_count": null,
      "outputs": []
    },
    {
      "cell_type": "code",
      "source": [
        "# Get the untrained model\n",
        "model = create_model(total_words, max_sequence_len)\n",
        "\n",
        "# Train the model\n",
        "history = model.fit(features, labels, epochs=20, verbose=1)"
      ],
      "metadata": {
        "colab": {
          "base_uri": "https://localhost:8080/"
        },
        "id": "WJXdjtBhnkD8",
        "outputId": "a6f9c1ce-f607-4526-a0c0-588d2156709e"
      },
      "execution_count": null,
      "outputs": [
        {
          "output_type": "stream",
          "name": "stdout",
          "text": [
            "Epoch 1/20\n",
            "995/995 [==============================] - 473s 470ms/step - loss: 6.3899 - accuracy: 0.0367\n",
            "Epoch 2/20\n",
            "995/995 [==============================] - 463s 465ms/step - loss: 5.7299 - accuracy: 0.0700\n",
            "Epoch 3/20\n",
            "995/995 [==============================] - 464s 466ms/step - loss: 5.2054 - accuracy: 0.1129\n",
            "Epoch 4/20\n",
            "995/995 [==============================] - 465s 467ms/step - loss: 4.7358 - accuracy: 0.1590\n",
            "Epoch 5/20\n",
            "995/995 [==============================] - 462s 464ms/step - loss: 4.3239 - accuracy: 0.2008\n",
            "Epoch 6/20\n",
            "995/995 [==============================] - 459s 461ms/step - loss: 3.9478 - accuracy: 0.2419\n",
            "Epoch 7/20\n",
            "995/995 [==============================] - 464s 466ms/step - loss: 3.6070 - accuracy: 0.2895\n",
            "Epoch 8/20\n",
            "995/995 [==============================] - 462s 465ms/step - loss: 3.2918 - accuracy: 0.3369\n",
            "Epoch 9/20\n",
            "995/995 [==============================] - 463s 465ms/step - loss: 2.9989 - accuracy: 0.3848\n",
            "Epoch 10/20\n",
            "995/995 [==============================] - 468s 471ms/step - loss: 2.7352 - accuracy: 0.4329\n",
            "Epoch 11/20\n",
            "995/995 [==============================] - 465s 468ms/step - loss: 2.4996 - accuracy: 0.4774\n",
            "Epoch 12/20\n",
            "995/995 [==============================] - 464s 466ms/step - loss: 2.2927 - accuracy: 0.5199\n",
            "Epoch 13/20\n",
            "995/995 [==============================] - 465s 467ms/step - loss: 2.1042 - accuracy: 0.5544\n",
            "Epoch 14/20\n",
            "995/995 [==============================] - 468s 470ms/step - loss: 1.9384 - accuracy: 0.5861\n",
            "Epoch 15/20\n",
            "995/995 [==============================] - 464s 466ms/step - loss: 1.7886 - accuracy: 0.6161\n",
            "Epoch 16/20\n",
            "995/995 [==============================] - 465s 467ms/step - loss: 1.6525 - accuracy: 0.6438\n",
            "Epoch 17/20\n",
            "995/995 [==============================] - 466s 468ms/step - loss: 1.5303 - accuracy: 0.6724\n",
            "Epoch 18/20\n",
            "995/995 [==============================] - 465s 468ms/step - loss: 1.4208 - accuracy: 0.6929\n",
            "Epoch 19/20\n",
            "995/995 [==============================] - 466s 469ms/step - loss: 1.3203 - accuracy: 0.7151\n",
            "Epoch 20/20\n",
            "995/995 [==============================] - 446s 448ms/step - loss: 1.2300 - accuracy: 0.7351\n"
          ]
        }
      ]
    },
    {
      "cell_type": "code",
      "source": [
        "# Take a look at the training curves of the model\n",
        "\n",
        "acc = history.history['accuracy']\n",
        "loss = history.history['loss']\n",
        "\n",
        "epochs = range(len(acc))\n",
        "\n",
        "plt.plot(epochs, acc, 'b', label='Training accuracy')\n",
        "plt.title('Training accuracy')\n",
        "\n",
        "plt.figure()\n",
        "\n",
        "plt.plot(epochs, loss, 'b', label='Training Loss')\n",
        "plt.title('Training loss')\n",
        "plt.legend()\n",
        "\n",
        "plt.show()"
      ],
      "metadata": {
        "id": "tJSK8kFWntJk",
        "colab": {
          "base_uri": "https://localhost:8080/",
          "height": 889
        },
        "outputId": "b73bf1c1-26e0-4035-ef41-a96eb81be4f2"
      },
      "execution_count": null,
      "outputs": [
        {
          "output_type": "display_data",
          "data": {
            "text/plain": [
              "<Figure size 640x480 with 1 Axes>"
            ],
            "image/png": "[encoded data removed]"
          },
          "metadata": {}
        },
        {
          "output_type": "display_data",
          "data": {
            "text/plain": [
              "<Figure size 640x480 with 1 Axes>"
            ],
            "image/png": "[encoded data removed]"
          },
          "metadata": {}
        }
      ]
    },
    {
      "cell_type": "code",
      "source": [
        "seed_text = \"Dear Bob, i want to tell you something\"\n",
        "next_words = 500\n",
        "\n",
        "for _ in range(next_words):\n",
        "    # Convert the text into sequences\n",
        "    token_list = tokenizer.texts_to_sequences([seed_text])[0]\n",
        "    # Pad the sequences\n",
        "    token_list = pad_sequences([token_list], maxlen=max_sequence_len-1, padding='pre')\n",
        "    # Get the probabilities of predicting a word\n",
        "    predicted = model.predict(token_list, verbose=0)\n",
        "    # Choose the next word based on the maximum probability\n",
        "    predicted = np.argmax(predicted, axis=-1).item()\n",
        "    # Get the actual word from the word index\n",
        "    output_word = tokenizer.index_word[predicted]\n",
        "    # Append to the current text\n",
        "    seed_text += \" \" + output_word\n",
        "\n",
        "print(seed_text)"
      ],
      "metadata": {
        "id": "qiArEi25nttM",
        "colab": {
          "base_uri": "https://localhost:8080/"
        },
        "outputId": "d7638066-a01c-45f4-ae14-36d044795650"
      },
      "execution_count": null,
      "outputs": [
        {
          "output_type": "stream",
          "name": "stdout",
          "text": [
            "Dear Bob, i want to tell you something things but i'm not a liar but to still right there and you ain't know nobody else yeah now they been uh yeah yeah yeah yeah yeah yeah yeah yeah yeah yeah yeah yeah yeah yeah yeah yeah man we said man what's next they crazy just me like me i’m hard right now i’m gone but i'm a wasteman but you're not a real nigga interlude a 100 woman and use a fucking condom as we in the most selective most seductive most relaxing four hours of the 93 7 it’s al wood and you are safe soft and warm in the loving embrace of my storm with the loving embrace of my storm with the loving embrace of my storm on my storm blk blk storm on my storm on blk blk blk storm on blk blk storm on storm storm blk storm blk storm on my storm blk storm in your storm with troop blk blk blk blk storm up storm through your storm with troop blk storm with the loving seductive the most selective most seductive most seductive most relaxing the most selective most of the 93 7 we in storm in blk blk blk storm in blk blk storm in blk blk blk blk storm in blk blk storm in blk storm with you in the loving embrace of the most of the moment is way blk blk storm in blk blk storm in blk storm with you or you are blk soft like storm up blk storm in blk storm in blk storm up blk storm in blk storm in blk blk blk blk storm in blk blk blk blk blk storm in blk storm up blk blk storm in blk storm in blk blk blk storm to you like you we in has up on blk storm in blk storm in blk blk blk blk blk blk blk storm in blk storm up blk storm in blk blk blk storm in blk blk blk blk storm in blk storm up storm up blk blk storm in blk blk storm in blk storm up blk storm in blk blk storm in blk storm with anybody you and you like it are blk blk storm in blk storm with it is storm in my end of the end of the next up the end of the end up to the top of the moment we we we in blk blk storm in blk blk storm in blk storm in blk blk blk blk blk storm in blk blk storm in my possession for the 93 7 we in blk blk storm in blk storm with your weeks they are storm in blk storm in my ex blk blk blk storm in blk blk storm in blk blk blk blk storm in blk blk storm in blk blk blk blk storm in blk storm in blk blk blk blk storm in blk blk storm in blk storm with anybody educate o’clock blk storm in blk blk\n"
          ]
        }
      ]
    },
    {
      "cell_type": "code",
      "source": [],
      "metadata": {
        "id": "S9BMob8ILNSW"
      },
      "execution_count": null,
      "outputs": []
    }
  ]
}